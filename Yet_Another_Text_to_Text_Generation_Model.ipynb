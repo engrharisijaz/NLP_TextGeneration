{
  "nbformat": 4,
  "nbformat_minor": 0,
  "metadata": {
    "accelerator": "GPU",
    "colab": {
      "provenance": []
    },
    "kernelspec": {
      "display_name": "Python 3",
      "language": "python",
      "name": "python3"
    },
    "language_info": {
      "codemirror_mode": {
        "name": "ipython",
        "version": 3
      },
      "file_extension": ".py",
      "mimetype": "text/x-python",
      "name": "python",
      "nbconvert_exporter": "python",
      "pygments_lexer": "ipython3",
      "version": "3.7.6"
    }
  },
  "cells": [
    {
      "cell_type": "markdown",
      "metadata": {
        "id": "JL3ZPJPgC4wC"
      },
      "source": [
        "# Yet Another Text-to-Text Generation Model using Character based RNN"
      ]
    },
    {
      "cell_type": "markdown",
      "metadata": {
        "id": "bui0MyTjv1Mp"
      },
      "source": [
        "## Model overview\n",
        "\n",
        "In this experiment we will use character-based Recurrent Neural Network (RNN) to generate a Wikipedia-like text based on the wikipedia TensorFlow dataset.\n",
        "\n"
      ]
    },
    {
      "cell_type": "markdown",
      "metadata": {
        "id": "IDJctDhhEDTD"
      },
      "source": [
        "## Import dependencies"
      ]
    },
    {
      "cell_type": "code",
      "metadata": {
        "id": "Z2xZnxncD2Ep"
      },
      "source": [
        "# Selecting Tensorflow version v2 (the command is relevant for Colab only).\n",
        "# %tensorflow_version 2.x"
      ],
      "execution_count": null,
      "outputs": []
    },
    {
      "cell_type": "code",
      "metadata": {
        "colab": {
          "base_uri": "https://localhost:8080/"
        },
        "id": "SpueB6zADYgE",
        "outputId": "4eb034a7-de0d-4359-9c9e-1c3054b2c533"
      },
      "source": [
        "import tensorflow as tf\n",
        "import tensorflow_datasets as tfds\n",
        "import matplotlib.pyplot as plt\n",
        "import numpy as np\n",
        "import platform\n",
        "import time\n",
        "import pathlib\n",
        "import os\n",
        "\n",
        "print('Python version:', platform.python_version())\n",
        "print('Tensorflow version:', tf.__version__)\n",
        "print('Keras version:', tf.keras.__version__)"
      ],
      "execution_count": null,
      "outputs": [
        {
          "output_type": "stream",
          "text": [
            "Python version: 3.6.9\n",
            "Tensorflow version: 2.4.1\n",
            "Keras version: 2.4.0\n"
          ],
          "name": "stdout"
        }
      ]
    },
    {
      "cell_type": "markdown",
      "metadata": {
        "id": "ciI_JnnNEGCw"
      },
      "source": [
        "## Download the dataset\n",
        "\n",
        "[Wikipedia](https://www.tensorflow.org/datasets/catalog/wikipedia) dataset contains cleaned articles of all languages. The datasets are built from the [Wikipedia dump](https://dumps.wikimedia.org/) with one split per language. Each example contains the content of one full Wikipedia article with cleaning to strip markdown and unwanted sections (references, etc.)."
      ]
    },
    {
      "cell_type": "code",
      "metadata": {
        "colab": {
          "base_uri": "https://localhost:8080/"
        },
        "id": "q3PDebo50-Le",
        "outputId": "024ede86-09cd-4bc2-92f5-5a04d4950735"
      },
      "source": [
        "# List all available datasets to see how the wikipedia dataset is called.\n",
        "tfds.list_builders()"
      ],
      "execution_count": null,
      "outputs": [
        {
          "output_type": "execute_result",
          "data": {
            "text/plain": [
              "['abstract_reasoning',\n",
              " 'accentdb',\n",
              " 'aeslc',\n",
              " 'aflw2k3d',\n",
              " 'ag_news_subset',\n",
              " 'ai2_arc',\n",
              " 'ai2_arc_with_ir',\n",
              " 'amazon_us_reviews',\n",
              " 'anli',\n",
              " 'arc',\n",
              " 'bair_robot_pushing_small',\n",
              " 'bccd',\n",
              " 'beans',\n",
              " 'big_patent',\n",
              " 'bigearthnet',\n",
              " 'billsum',\n",
              " 'binarized_mnist',\n",
              " 'binary_alpha_digits',\n",
              " 'blimp',\n",
              " 'bool_q',\n",
              " 'c4',\n",
              " 'caltech101',\n",
              " 'caltech_birds2010',\n",
              " 'caltech_birds2011',\n",
              " 'cars196',\n",
              " 'cassava',\n",
              " 'cats_vs_dogs',\n",
              " 'celeb_a',\n",
              " 'celeb_a_hq',\n",
              " 'cfq',\n",
              " 'chexpert',\n",
              " 'cifar10',\n",
              " 'cifar100',\n",
              " 'cifar10_1',\n",
              " 'cifar10_corrupted',\n",
              " 'citrus_leaves',\n",
              " 'cityscapes',\n",
              " 'civil_comments',\n",
              " 'clevr',\n",
              " 'clic',\n",
              " 'clinc_oos',\n",
              " 'cmaterdb',\n",
              " 'cnn_dailymail',\n",
              " 'coco',\n",
              " 'coco_captions',\n",
              " 'coil100',\n",
              " 'colorectal_histology',\n",
              " 'colorectal_histology_large',\n",
              " 'common_voice',\n",
              " 'coqa',\n",
              " 'cos_e',\n",
              " 'cosmos_qa',\n",
              " 'covid19sum',\n",
              " 'crema_d',\n",
              " 'curated_breast_imaging_ddsm',\n",
              " 'cycle_gan',\n",
              " 'deep_weeds',\n",
              " 'definite_pronoun_resolution',\n",
              " 'dementiabank',\n",
              " 'diabetic_retinopathy_detection',\n",
              " 'div2k',\n",
              " 'dmlab',\n",
              " 'downsampled_imagenet',\n",
              " 'dsprites',\n",
              " 'dtd',\n",
              " 'duke_ultrasound',\n",
              " 'emnist',\n",
              " 'eraser_multi_rc',\n",
              " 'esnli',\n",
              " 'eurosat',\n",
              " 'fashion_mnist',\n",
              " 'flic',\n",
              " 'flores',\n",
              " 'food101',\n",
              " 'forest_fires',\n",
              " 'fuss',\n",
              " 'gap',\n",
              " 'geirhos_conflict_stimuli',\n",
              " 'genomics_ood',\n",
              " 'german_credit_numeric',\n",
              " 'gigaword',\n",
              " 'glue',\n",
              " 'goemotions',\n",
              " 'gpt3',\n",
              " 'groove',\n",
              " 'gtzan',\n",
              " 'gtzan_music_speech',\n",
              " 'hellaswag',\n",
              " 'higgs',\n",
              " 'horses_or_humans',\n",
              " 'i_naturalist2017',\n",
              " 'imagenet2012',\n",
              " 'imagenet2012_corrupted',\n",
              " 'imagenet2012_real',\n",
              " 'imagenet2012_subset',\n",
              " 'imagenet_a',\n",
              " 'imagenet_r',\n",
              " 'imagenet_resized',\n",
              " 'imagenet_v2',\n",
              " 'imagenette',\n",
              " 'imagewang',\n",
              " 'imdb_reviews',\n",
              " 'irc_disentanglement',\n",
              " 'iris',\n",
              " 'kitti',\n",
              " 'kmnist',\n",
              " 'lfw',\n",
              " 'librispeech',\n",
              " 'librispeech_lm',\n",
              " 'libritts',\n",
              " 'ljspeech',\n",
              " 'lm1b',\n",
              " 'lost_and_found',\n",
              " 'lsun',\n",
              " 'malaria',\n",
              " 'math_dataset',\n",
              " 'mctaco',\n",
              " 'mnist',\n",
              " 'mnist_corrupted',\n",
              " 'movie_lens',\n",
              " 'movie_rationales',\n",
              " 'movielens',\n",
              " 'moving_mnist',\n",
              " 'multi_news',\n",
              " 'multi_nli',\n",
              " 'multi_nli_mismatch',\n",
              " 'natural_questions',\n",
              " 'natural_questions_open',\n",
              " 'newsroom',\n",
              " 'nsynth',\n",
              " 'nyu_depth_v2',\n",
              " 'omniglot',\n",
              " 'open_images_challenge2019_detection',\n",
              " 'open_images_v4',\n",
              " 'openbookqa',\n",
              " 'opinion_abstracts',\n",
              " 'opinosis',\n",
              " 'opus',\n",
              " 'oxford_flowers102',\n",
              " 'oxford_iiit_pet',\n",
              " 'para_crawl',\n",
              " 'patch_camelyon',\n",
              " 'paws_wiki',\n",
              " 'paws_x_wiki',\n",
              " 'pet_finder',\n",
              " 'pg19',\n",
              " 'places365_small',\n",
              " 'plant_leaves',\n",
              " 'plant_village',\n",
              " 'plantae_k',\n",
              " 'qa4mre',\n",
              " 'qasc',\n",
              " 'quickdraw_bitmap',\n",
              " 'radon',\n",
              " 'reddit',\n",
              " 'reddit_disentanglement',\n",
              " 'reddit_tifu',\n",
              " 'resisc45',\n",
              " 'robonet',\n",
              " 'rock_paper_scissors',\n",
              " 'rock_you',\n",
              " 'salient_span_wikipedia',\n",
              " 'samsum',\n",
              " 'savee',\n",
              " 'scan',\n",
              " 'scene_parse150',\n",
              " 'scicite',\n",
              " 'scientific_papers',\n",
              " 'sentiment140',\n",
              " 'shapes3d',\n",
              " 'smallnorb',\n",
              " 'snli',\n",
              " 'so2sat',\n",
              " 'speech_commands',\n",
              " 'spoken_digit',\n",
              " 'squad',\n",
              " 'stanford_dogs',\n",
              " 'stanford_online_products',\n",
              " 'starcraft_video',\n",
              " 'stl10',\n",
              " 'sun397',\n",
              " 'super_glue',\n",
              " 'svhn_cropped',\n",
              " 'ted_hrlr_translate',\n",
              " 'ted_multi_translate',\n",
              " 'tedlium',\n",
              " 'tf_flowers',\n",
              " 'the300w_lp',\n",
              " 'tiny_shakespeare',\n",
              " 'titanic',\n",
              " 'trec',\n",
              " 'trivia_qa',\n",
              " 'tydi_qa',\n",
              " 'uc_merced',\n",
              " 'ucf101',\n",
              " 'vctk',\n",
              " 'vgg_face2',\n",
              " 'visual_domain_decathlon',\n",
              " 'voc',\n",
              " 'voxceleb',\n",
              " 'voxforge',\n",
              " 'waymo_open_dataset',\n",
              " 'web_questions',\n",
              " 'wider_face',\n",
              " 'wiki40b',\n",
              " 'wikihow',\n",
              " 'wikipedia',\n",
              " 'wikipedia_toxicity_subtypes',\n",
              " 'wine_quality',\n",
              " 'winogrande',\n",
              " 'wmt14_translate',\n",
              " 'wmt15_translate',\n",
              " 'wmt16_translate',\n",
              " 'wmt17_translate',\n",
              " 'wmt18_translate',\n",
              " 'wmt19_translate',\n",
              " 'wmt_t2t_translate',\n",
              " 'wmt_translate',\n",
              " 'wordnet',\n",
              " 'xnli',\n",
              " 'xquad',\n",
              " 'xsum',\n",
              " 'yelp_polarity_reviews',\n",
              " 'yes_no']"
            ]
          },
          "metadata": {
            "tags": []
          },
          "execution_count": 3
        }
      ]
    },
    {
      "cell_type": "markdown",
      "metadata": {
        "id": "f2qtWwKA0-Li"
      },
      "source": [
        "[`tfds.load`](https://www.tensorflow.org/datasets/api_docs/python/tfds/load) is a convenience method that's the simplest way to build and load a [`tf.data.Dataset`](https://www.tensorflow.org/api_docs/python/tf/data/Dataset)."
      ]
    },
    {
      "cell_type": "code",
      "metadata": {
        "id": "gsqkLYgZ0-Lj"
      },
      "source": [
        "# Loading the wikipedia dataset.\n",
        "DATASET_NAME = 'wikipedia/20200301.en'\n",
        "\n",
        "\n",
        "dataset, dataset_info = tfds.load(\n",
        "    name=DATASET_NAME,\n",
        "    data_dir='tmp',\n",
        "    with_info=True,\n",
        "    split=tfds.Split.TRAIN,\n",
        ")"
      ],
      "execution_count": null,
      "outputs": []
    },
    {
      "cell_type": "code",
      "metadata": {
        "id": "V5nkTrRZ0-Ln"
      },
      "source": [
        "print(dataset_info)"
      ],
      "execution_count": null,
      "outputs": []
    },
    {
      "cell_type": "code",
      "metadata": {
        "id": "9A11MeAt0-Lr"
      },
      "source": [
        "print(dataset)"
      ],
      "execution_count": null,
      "outputs": []
    },
    {
      "cell_type": "markdown",
      "metadata": {
        "id": "eKTy6YS5Gx-g"
      },
      "source": [
        "## Analyze the dataset"
      ]
    },
    {
      "cell_type": "code",
      "metadata": {
        "id": "ldLeTmcM0-Lu"
      },
      "source": [
        "TRAIN_NUM_EXAMPLES = dataset_info.splits['train'].num_examples\n",
        "print('Total number of articles: ', TRAIN_NUM_EXAMPLES)"
      ],
      "execution_count": null,
      "outputs": []
    },
    {
      "cell_type": "code",
      "metadata": {
        "id": "CHkz0ZHA0-Lz"
      },
      "source": [
        "print('First article','\\n======\\n')\n",
        "for example in dataset.take(1):\n",
        "    print('Title:','\\n------')\n",
        "    print(example['title'].numpy().decode('utf-8'))\n",
        "    print()\n",
        "\n",
        "    print('Text:', '\\n------')\n",
        "    print(example['text'].numpy().decode('utf-8'))"
      ],
      "execution_count": null,
      "outputs": []
    },
    {
      "cell_type": "markdown",
      "metadata": {
        "id": "GqpuKh9HMNnf"
      },
      "source": [
        "## Process the dataset"
      ]
    },
    {
      "cell_type": "markdown",
      "metadata": {
        "id": "FK_FFy7P0-L3"
      },
      "source": [
        "### Flatten the dataset\n",
        "\n",
        "Converting the dataset from the set of articles into the set of characters. We also are interested only in `text` of each article so we may drop the `title` along the way."
      ]
    },
    {
      "cell_type": "code",
      "metadata": {
        "id": "_AC6MHFC0-L3"
      },
      "source": [
        "def article_to_text(text):\n",
        "    return np.array([char for char in text.numpy().decode('utf-8')])\n",
        "\n",
        "# Converting each dataset item to a string ('text') instead of a dictionary ({'text', 'title'}).\n",
        "dataset_text = dataset.map(\n",
        "    lambda article: tf.py_function(func=article_to_text, inp=[article['text']], Tout=tf.string)\n",
        ")\n",
        "\n",
        "for text in dataset_text.take(2):\n",
        "    print(text.numpy())\n",
        "    print('\\n')"
      ],
      "execution_count": null,
      "outputs": []
    },
    {
      "cell_type": "code",
      "metadata": {
        "id": "oSsSbJbX0-L8"
      },
      "source": [
        "# Unbatch the text dataset into a more granular char dataset.\n",
        "# Now each dataset item is one character instead of a big piece of text.\n",
        "dataset_chars = dataset_text.unbatch()\n",
        "\n",
        "for char in dataset_chars.take(20):\n",
        "    print(char.numpy().decode('utf-8'))"
      ],
      "execution_count": null,
      "outputs": []
    },
    {
      "cell_type": "markdown",
      "metadata": {
        "id": "jHNkkXGz0-L_"
      },
      "source": [
        "### Generating vocabulary"
      ]
    },
    {
      "cell_type": "code",
      "metadata": {
        "id": "B7rnYLeU0-MA"
      },
      "source": [
        "vocab = set()\n",
        "\n",
        "# Ideally we should take all dataset items into account here.\n",
        "for text in dataset_text.take(1000):\n",
        "    vocab.update([char.decode('utf-8') for char in text.numpy()])\n",
        "    \n",
        "vocab = sorted(vocab)\n",
        "\n",
        "print('Unique characters: {}'.format(len(vocab)))\n",
        "print('vocab:')\n",
        "print(vocab)"
      ],
      "execution_count": null,
      "outputs": []
    },
    {
      "cell_type": "markdown",
      "metadata": {
        "id": "6dj4e-AGMaV4"
      },
      "source": [
        "### Vectorize the text\n",
        "\n",
        "Before feeding the text to our RNN we need to convert the text from a sequence of characters to a sequence of numbers. To do so we will detect all unique characters in the text, form a vocabulary out of it and replace each character with its index in the vocabulary."
      ]
    },
    {
      "cell_type": "code",
      "metadata": {
        "id": "xFFpuXfGMPq2"
      },
      "source": [
        "# Map characters to their indices in vocabulary.\n",
        "char2index = {char: index for index, char in enumerate(vocab)}\n",
        "\n",
        "print('{')\n",
        "for char, _ in zip(char2index, range(30)):\n",
        "    print('  {:4s}: {:3d},'.format(repr(char), char2index[char]))\n",
        "print('  ...\\n}')"
      ],
      "execution_count": null,
      "outputs": []
    },
    {
      "cell_type": "code",
      "metadata": {
        "id": "lQB33zI7NkRo"
      },
      "source": [
        "# Map character indices to characters from vacabulary.\n",
        "index2char = np.array(vocab)\n",
        "\n",
        "print(index2char)"
      ],
      "execution_count": null,
      "outputs": []
    },
    {
      "cell_type": "code",
      "metadata": {
        "id": "DXUAlYmvN_Rj"
      },
      "source": [
        "def char_to_index(char):\n",
        "    char_symbol = char.numpy().decode('utf-8')\n",
        "    char_index = char2index[char_symbol] if char_symbol in char2index else char2index['?']\n",
        "    return char_index\n",
        "\n",
        "dataset_chars_indexed = dataset_chars.map(\n",
        "    lambda char: tf.py_function(func=char_to_index, inp=[char], Tout=tf.int32)\n",
        ")\n",
        "\n",
        "print('ORIGINAL CHARS:', '\\n---')\n",
        "for char in dataset_chars.take(10):\n",
        "    print(char.numpy().decode())\n",
        "\n",
        "print('\\n\\n')    \n",
        "    \n",
        "print('INDEXED CHARS:', '\\n---')\n",
        "for char_index in dataset_chars_indexed.take(20):\n",
        "    print(char_index.numpy())"
      ],
      "execution_count": null,
      "outputs": []
    },
    {
      "cell_type": "markdown",
      "metadata": {
        "id": "CHv5HhUuTQYS"
      },
      "source": [
        "## Create training sequences"
      ]
    },
    {
      "cell_type": "code",
      "metadata": {
        "id": "rpdFJJc90-ML"
      },
      "source": [
        "# The maximum length sentence we want for a single input in characters.\n",
        "sequence_length = 200"
      ],
      "execution_count": null,
      "outputs": []
    },
    {
      "cell_type": "code",
      "metadata": {
        "id": "Ap71VjB2Vuct"
      },
      "source": [
        "# Generate batched sequences out of the char_dataset.\n",
        "sequences = dataset_chars_indexed.batch(sequence_length + 1, drop_remainder=True)\n",
        "\n",
        "# Sequences examples.\n",
        "for item in sequences.take(10):\n",
        "    print(repr(''.join(index2char[item.numpy()])))\n",
        "    print()"
      ],
      "execution_count": null,
      "outputs": []
    },
    {
      "cell_type": "code",
      "metadata": {
        "id": "Y8spPCfe-iTn"
      },
      "source": [
        "# sequences shape:\n",
        "# - Each sequence of length 101\n",
        "#\n",
        "#    201     201          201\n",
        "# [(.....) (.....) ...  (.....)]"
      ],
      "execution_count": null,
      "outputs": []
    },
    {
      "cell_type": "markdown",
      "metadata": {
        "id": "HdcrcUs4Xxso"
      },
      "source": [
        "For each sequence, duplicate and shift it to form the input and target text. For example, say `sequence_length` is `4` and our text is `Hello`. The input sequence would be `Hell`, and the target sequence `ello`."
      ]
    },
    {
      "cell_type": "code",
      "metadata": {
        "id": "9fxvXsP0XFDh"
      },
      "source": [
        "def split_input_target(chunk):\n",
        "    input_text = chunk[:-1]\n",
        "    target_text = chunk[1:]\n",
        "    return input_text, target_text"
      ],
      "execution_count": null,
      "outputs": []
    },
    {
      "cell_type": "code",
      "metadata": {
        "id": "454rWIQYXXRY"
      },
      "source": [
        "dataset_sequences = sequences.map(split_input_target)"
      ],
      "execution_count": null,
      "outputs": []
    },
    {
      "cell_type": "code",
      "metadata": {
        "id": "Kuoh4tCdYCck"
      },
      "source": [
        "for input_example, target_example in dataset_sequences.take(1):\n",
        "    print('Input sequence size:', repr(len(input_example.numpy())))\n",
        "    print('Target sequence size:', repr(len(target_example.numpy())))\n",
        "    print()\n",
        "    print('Input:\\n', repr(''.join(index2char[input_example.numpy()])))\n",
        "    print()\n",
        "    print('Target:\\n', repr(''.join(index2char[target_example.numpy()])))"
      ],
      "execution_count": null,
      "outputs": []
    },
    {
      "cell_type": "code",
      "metadata": {
        "id": "cp0tl0sN807l"
      },
      "source": [
        "# dataset shape:\n",
        "# - Each sequence is a tuple of 2 sub-sequences of length 100 (input_text and target_text)\n",
        "#\n",
        "#    200       200           200\n",
        "# /(.....)\\ /(.....)\\ ... /(.....)\\  <-- input_text\n",
        "# \\(.....)/ \\(.....)/     \\(.....)/  <-- target_text"
      ],
      "execution_count": null,
      "outputs": []
    },
    {
      "cell_type": "markdown",
      "metadata": {
        "id": "BDYHEJ0pY1ai"
      },
      "source": [
        "Each index of these vectors are processed as one time step. For the input at time step 0, the model receives the index for \"F\" and trys to predict the index for \"i\" as the next character. At the next timestep, it does the same thing but the RNN considers the previous step context in addition to the current input character."
      ]
    },
    {
      "cell_type": "code",
      "metadata": {
        "id": "C-0zpv53Y2o4"
      },
      "source": [
        "for i, (input_idx, target_idx) in enumerate(zip(input_example[:5], target_example[:5])):\n",
        "    print('Step #{:1d}'.format(i))\n",
        "    print('  input: {} ({:s})'.format(input_idx, repr(index2char[input_idx])))\n",
        "    print('  expected output: {} ({:s})'.format(target_idx, repr(index2char[target_idx])))\n",
        "    print()"
      ],
      "execution_count": null,
      "outputs": []
    },
    {
      "cell_type": "markdown",
      "metadata": {
        "id": "1iDlp40lC5YB"
      },
      "source": [
        "## Split training sequences into batches\n",
        "\n",
        "We used `tf.data` to split the text into manageable sequences. But before feeding this data into the model, we need to shuffle the data and pack it into batches."
      ]
    },
    {
      "cell_type": "code",
      "metadata": {
        "id": "eDq-wa5EC3wW"
      },
      "source": [
        "# Batch size.\n",
        "BATCH_SIZE = 64\n",
        "\n",
        "# Buffer size to shuffle the dataset (TF data is designed to work\n",
        "# with possibly infinite sequences, so it doesn't attempt to shuffle\n",
        "# the entire sequence in memory. Instead, it maintains a buffer in\n",
        "# which it shuffles elements).\n",
        "BUFFER_SIZE = 100\n",
        "\n",
        "# How many items to prefetch before the next iteration.\n",
        "PREFETCH_SIZE = 10\n",
        "\n",
        "dataset_sequence_batches = dataset_sequences \\\n",
        "    .shuffle(BUFFER_SIZE) \\\n",
        "    .batch(BATCH_SIZE, drop_remainder=True) \\\n",
        "    .prefetch(PREFETCH_SIZE)\n",
        "\n",
        "dataset_sequence_batches"
      ],
      "execution_count": null,
      "outputs": []
    },
    {
      "cell_type": "code",
      "metadata": {
        "id": "b_kYgvQGBO0U"
      },
      "source": [
        "for input_text, target_text in dataset_sequence_batches.take(1):\n",
        "    print('1st batch: input_text:', input_text)\n",
        "    print()\n",
        "    print('1st batch: target_text:', target_text)"
      ],
      "execution_count": null,
      "outputs": []
    },
    {
      "cell_type": "code",
      "metadata": {
        "id": "UkDCH15v_2I6"
      },
      "source": [
        "# dataset shape:\n",
        "# - 64 sequences per batch\n",
        "# - Each sequence is a tuple of 2 sub-sequences of length 100 (input_text and target_text)\n",
        "#\n",
        "#\n",
        "#     200       200           200             200       200           200\n",
        "# |/(.....)\\ /(.....)\\ ... /(.....)\\| ... |/(.....)\\ /(.....)\\ ... /(.....)\\|  <-- input_text\n",
        "# |\\(.....)/ \\(.....)/     \\(.....)/| ... |\\(.....)/ \\(.....)/     \\(.....)/|  <-- target_text\n",
        "#\n",
        "# <------------- 64 ---------------->     <------------- 64 ---------------->"
      ],
      "execution_count": null,
      "outputs": []
    },
    {
      "cell_type": "markdown",
      "metadata": {
        "id": "ghB-VwLlD-Oz"
      },
      "source": [
        "## Build the model\n",
        "\n",
        "Use [tf.keras.Sequential](https://www.tensorflow.org/api_docs/python/tf/keras/Sequential) to define the model. For this simple example three layers are used to define our model:\n",
        "\n",
        "- [tf.keras.layers.Embedding](https://www.tensorflow.org/api_docs/python/tf/keras/layers/Embedding): The input layer. A trainable lookup table that will map the numbers of each character to a vector with `embedding_dim` dimensions;\n",
        "- [tf.keras.layers.LSTM](https://www.tensorflow.org/api_docs/python/tf/keras/layers/LSTM): A type of RNN with size units=rnn_units (You can also use a GRU layer here.)\n",
        "- [tf.keras.layers.Dense](https://www.tensorflow.org/api_docs/python/tf/keras/layers/Dense): The output layer, with vocab_size outputs."
      ]
    },
    {
      "cell_type": "code",
      "metadata": {
        "id": "0cg8DlO3QjuT"
      },
      "source": [
        "# Let's do a quick detour and see how Embeding layer works.\n",
        "# It takes several char indices sequences (batch) as an input.\n",
        "# It encodes every character of every sequence to a vector of tmp_embeding_size length.\n",
        "tmp_vocab_size = 10\n",
        "tmp_embeding_size = 5\n",
        "tmp_input_length = 8\n",
        "tmp_batch_size = 2\n",
        "\n",
        "tmp_model = tf.keras.models.Sequential()\n",
        "tmp_model.add(tf.keras.layers.Embedding(\n",
        "  input_dim=tmp_vocab_size,\n",
        "  output_dim=tmp_embeding_size,\n",
        "  input_length=tmp_input_length\n",
        "))\n",
        "# The model will take as input an integer matrix of size (batch, input_length).\n",
        "# The largest integer (i.e. word index) in the input should be no larger than 9 (tmp_vocab_size).\n",
        "# Now model.output_shape == (None, 10, 64), where None is the batch dimension.\n",
        "tmp_input_array = np.random.randint(\n",
        "  low=0,\n",
        "  high=tmp_vocab_size,\n",
        "  size=(tmp_batch_size, tmp_input_length)\n",
        ")\n",
        "tmp_model.compile('rmsprop', 'mse')\n",
        "tmp_output_array = tmp_model.predict(tmp_input_array)\n",
        "\n",
        "print('tmp_input_array shape:', tmp_input_array.shape)\n",
        "print('tmp_input_array:')\n",
        "print(tmp_input_array)\n",
        "print()\n",
        "print('tmp_output_array shape:', tmp_output_array.shape)\n",
        "print('tmp_output_array:')\n",
        "print(tmp_output_array)"
      ],
      "execution_count": null,
      "outputs": []
    },
    {
      "cell_type": "code",
      "metadata": {
        "id": "I7ZuvZHBD_pS"
      },
      "source": [
        "# Length of the vocabulary in chars.\n",
        "vocab_size = len(vocab)\n",
        "\n",
        "# The embedding dimension.\n",
        "embedding_dim = 256\n",
        "\n",
        "# Number of RNN units.\n",
        "rnn_units = 1024"
      ],
      "execution_count": null,
      "outputs": []
    },
    {
      "cell_type": "code",
      "metadata": {
        "id": "-sojdDCAICWO"
      },
      "source": [
        "def build_model(vocab_size, embedding_dim, rnn_units, batch_size):\n",
        "    model = tf.keras.models.Sequential()\n",
        "\n",
        "    model.add(tf.keras.layers.Embedding(\n",
        "      input_dim=vocab_size,\n",
        "      output_dim=embedding_dim,\n",
        "      batch_input_shape=[batch_size, None]\n",
        "    ))\n",
        "\n",
        "    model.add(tf.keras.layers.LSTM(\n",
        "      units=rnn_units,\n",
        "      return_sequences=True,\n",
        "      stateful=True,\n",
        "      recurrent_initializer=tf.keras.initializers.GlorotNormal()\n",
        "    ))\n",
        "\n",
        "    model.add(tf.keras.layers.Dense(vocab_size))\n",
        "  \n",
        "    return model"
      ],
      "execution_count": null,
      "outputs": []
    },
    {
      "cell_type": "code",
      "metadata": {
        "id": "XoPwxyAPEg6z"
      },
      "source": [
        "model = build_model(vocab_size, embedding_dim, rnn_units, BATCH_SIZE)"
      ],
      "execution_count": null,
      "outputs": []
    },
    {
      "cell_type": "code",
      "metadata": {
        "id": "iLnlZFgU55bQ"
      },
      "source": [
        "model.summary()"
      ],
      "execution_count": null,
      "outputs": []
    },
    {
      "cell_type": "code",
      "metadata": {
        "id": "CcaO_rO_8-GH"
      },
      "source": [
        "tf.keras.utils.plot_model(\n",
        "    model,\n",
        "    show_shapes=True,\n",
        "    show_layer_names=True,\n",
        ")"
      ],
      "execution_count": null,
      "outputs": []
    },
    {
      "cell_type": "markdown",
      "metadata": {
        "id": "JpL9idwZV6fL"
      },
      "source": [
        "For each character the model looks up the embedding, runs the GRU one timestep with the embedding as input, and applies the dense layer to generate logits predicting the log-likelihood of the next character:\n",
        "\n",
        "![Untitled Diagram.png](data:image/png;base64,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)\n"
      ]
    },
    {
      "cell_type": "markdown",
      "metadata": {
        "id": "Npruiy2RAPkt"
      },
      "source": [
        "## Try the model"
      ]
    },
    {
      "cell_type": "code",
      "metadata": {
        "id": "E4DCLA0GASL1"
      },
      "source": [
        "for input_example_batch, target_example_batch in dataset_sequence_batches.take(1):\n",
        "    example_batch_predictions = model(input_example_batch)\n",
        "    print(example_batch_predictions.shape, \"# (batch_size, sequence_length, vocab_size)\")\n"
      ],
      "execution_count": null,
      "outputs": []
    },
    {
      "cell_type": "markdown",
      "metadata": {
        "id": "MWebJXU9CEPd"
      },
      "source": [
        "To get actual predictions from the model we need to sample from the output distribution, to get actual character indices. This distribution is defined by the logits over the character vocabulary."
      ]
    },
    {
      "cell_type": "code",
      "metadata": {
        "id": "Y4Jgo-iECFWI"
      },
      "source": [
        "print('Prediction for the 1st letter of the batch 1st sequense:')\n",
        "print(example_batch_predictions[0, 0])"
      ],
      "execution_count": null,
      "outputs": []
    },
    {
      "cell_type": "code",
      "metadata": {
        "id": "0dOr0MwFHlRb"
      },
      "source": [
        "# Quick overview of how tf.random.categorical() works.\n",
        "\n",
        "# logits is 2-D Tensor with shape [batch_size, num_classes].\n",
        "# Each slice [i, :] represents the unnormalized log-probabilities for all classes.\n",
        "# In the example below we say that the probability for class \"0\" is low but the\n",
        "# probability for class \"2\" is much higher.\n",
        "tmp_logits = [\n",
        "  [-0.95, 0, 0.95],\n",
        "];\n",
        "\n",
        "# Let's generate 5 samples. Each sample is a class index. Class probabilities \n",
        "# are being taken into account (we expect to see more samples of class \"2\").\n",
        "tmp_samples = tf.random.categorical(\n",
        "    logits=tmp_logits,\n",
        "    num_samples=5\n",
        ")\n",
        "\n",
        "print(tmp_samples)"
      ],
      "execution_count": null,
      "outputs": []
    },
    {
      "cell_type": "code",
      "metadata": {
        "id": "JPzr0r4zCgS3"
      },
      "source": [
        "sampled_indices = tf.random.categorical(\n",
        "    logits=example_batch_predictions[0],\n",
        "    num_samples=1\n",
        ")\n",
        "\n",
        "sampled_indices.shape"
      ],
      "execution_count": null,
      "outputs": []
    },
    {
      "cell_type": "code",
      "metadata": {
        "id": "YaA7DclID8dz"
      },
      "source": [
        "sampled_indices = tf.squeeze(\n",
        "    input=sampled_indices,\n",
        "    axis=-1\n",
        ").numpy()\n",
        "\n",
        "sampled_indices.shape"
      ],
      "execution_count": null,
      "outputs": []
    },
    {
      "cell_type": "code",
      "metadata": {
        "id": "_ubGQ0gVENhB"
      },
      "source": [
        "sampled_indices"
      ],
      "execution_count": null,
      "outputs": []
    },
    {
      "cell_type": "code",
      "metadata": {
        "id": "Gi9HOzw9EajS"
      },
      "source": [
        "print('Input:\\n', repr(''.join(index2char[input_example_batch[0]])))\n",
        "print()\n",
        "print('Next char prediction:\\n', repr(''.join(index2char[sampled_indices])))"
      ],
      "execution_count": null,
      "outputs": []
    },
    {
      "cell_type": "code",
      "metadata": {
        "id": "b87e0lsYMTsv"
      },
      "source": [
        "for i, (input_idx, sample_idx) in enumerate(zip(input_example_batch[0][:5], sampled_indices[:5])):\n",
        "    print('Prediction #{:1d}'.format(i))\n",
        "    print('  input: {} ({:s})'.format(input_idx, repr(index2char[input_idx])))\n",
        "    print('  next predicted: {} ({:s})'.format(target_idx, repr(index2char[sample_idx])))\n",
        "    print()"
      ],
      "execution_count": null,
      "outputs": []
    },
    {
      "cell_type": "markdown",
      "metadata": {
        "id": "LqcBufKEE_p6"
      },
      "source": [
        "## Train the model\n",
        "\n",
        "At this point the problem can be treated as a standard classification problem. Given the previous RNN state, and the input this time step, predict the class of the next character."
      ]
    },
    {
      "cell_type": "markdown",
      "metadata": {
        "id": "l4s0-PvrFub5"
      },
      "source": [
        "### Attach an optimizer, and a loss function"
      ]
    },
    {
      "cell_type": "code",
      "metadata": {
        "id": "UOEUUm6JE95a"
      },
      "source": [
        "# An objective function.\n",
        "# The function is any callable with the signature scalar_loss = fn(y_true, y_pred).\n",
        "def loss(labels, logits):\n",
        "    return tf.keras.losses.sparse_categorical_crossentropy(\n",
        "      y_true=labels,\n",
        "      y_pred=logits,\n",
        "      from_logits=True\n",
        "    )\n",
        "\n",
        "example_batch_loss = loss(target_example_batch, example_batch_predictions)\n",
        "\n",
        "print(\"Prediction shape: \", example_batch_predictions.shape, \" # (batch_size, sequence_length, vocab_size)\")\n",
        "print(\"scalar_loss:      \", example_batch_loss.numpy().mean())"
      ],
      "execution_count": null,
      "outputs": []
    },
    {
      "cell_type": "code",
      "metadata": {
        "id": "SXhJsB6eFgrJ"
      },
      "source": [
        "adam_optimizer = tf.keras.optimizers.Adam(learning_rate=0.001)\n",
        "model.compile(\n",
        "    optimizer=adam_optimizer,\n",
        "    loss=loss\n",
        ")"
      ],
      "execution_count": null,
      "outputs": []
    },
    {
      "cell_type": "markdown",
      "metadata": {
        "id": "MK3Cf-xZFwL4"
      },
      "source": [
        "### Configure checkpoints"
      ]
    },
    {
      "cell_type": "code",
      "metadata": {
        "id": "7Jet-3Ps0-Ny"
      },
      "source": [
        "# %rm -rf tmp/checkpoints"
      ],
      "execution_count": null,
      "outputs": []
    },
    {
      "cell_type": "code",
      "metadata": {
        "id": "LUhXnHPJFy5q"
      },
      "source": [
        "# Directory where the checkpoints will be saved.\n",
        "checkpoint_dir = 'tmp/checkpoints'\n",
        "os.makedirs(checkpoint_dir, exist_ok=True)\n",
        "\n",
        "# Name of the checkpoint files\n",
        "checkpoint_prefix = os.path.join(checkpoint_dir, 'ckpt_{epoch}')\n",
        "\n",
        "checkpoint_callback=tf.keras.callbacks.ModelCheckpoint(\n",
        "    filepath=checkpoint_prefix,\n",
        "    save_weights_only=True\n",
        ")"
      ],
      "execution_count": null,
      "outputs": []
    },
    {
      "cell_type": "markdown",
      "metadata": {
        "id": "oFg9MFJoGZWf"
      },
      "source": [
        "### Execute the training"
      ]
    },
    {
      "cell_type": "code",
      "metadata": {
        "id": "AVk-pARPGaja"
      },
      "source": [
        "EPOCHS=300\n",
        "STEPS_PER_EPOCH = 10"
      ],
      "execution_count": null,
      "outputs": []
    },
    {
      "cell_type": "code",
      "metadata": {
        "id": "y0rveBdAGeEz"
      },
      "source": [
        "tmp_dataset = dataset_sequence_batches.repeat()\n",
        "    \n",
        "history = model.fit(\n",
        "    x=tmp_dataset.as_numpy_iterator(),\n",
        "    epochs=EPOCHS,\n",
        "    steps_per_epoch=STEPS_PER_EPOCH,\n",
        "    callbacks=[\n",
        "        checkpoint_callback\n",
        "    ]\n",
        ")"
      ],
      "execution_count": null,
      "outputs": []
    },
    {
      "cell_type": "code",
      "metadata": {
        "id": "mLdnOyvzMggJ"
      },
      "source": [
        "def render_training_history(training_history):\n",
        "    loss = training_history.history['loss']\n",
        "    plt.title('Loss')\n",
        "    plt.xlabel('Epoch')\n",
        "    plt.ylabel('Loss')\n",
        "    plt.plot(loss, label='Training set')\n",
        "    plt.legend()\n",
        "    plt.grid(linestyle='--', linewidth=1, alpha=0.5)\n",
        "    plt.show()"
      ],
      "execution_count": null,
      "outputs": []
    },
    {
      "cell_type": "code",
      "metadata": {
        "id": "4Ghveem_OQBV"
      },
      "source": [
        "render_training_history(history)"
      ],
      "execution_count": null,
      "outputs": []
    },
    {
      "cell_type": "markdown",
      "metadata": {
        "id": "X-dhNP2OG2EM"
      },
      "source": [
        "## Generate text"
      ]
    },
    {
      "cell_type": "markdown",
      "metadata": {
        "id": "SU_YfP6sG3NC"
      },
      "source": [
        "### Restore the latest checkpoint\n",
        "\n",
        "To keep this prediction step simple, use a batch size of 1.\n",
        "\n",
        "Because of the way the RNN state is passed from timestep to timestep, the model only accepts a fixed batch size once built.\n",
        "\n",
        "To run the model with a different `batch_size`, we need to rebuild the model and restore the weights from the checkpoint."
      ]
    },
    {
      "cell_type": "code",
      "metadata": {
        "id": "BlG8o3wiG6f2"
      },
      "source": [
        "tf.train.latest_checkpoint(checkpoint_dir)"
      ],
      "execution_count": null,
      "outputs": []
    },
    {
      "cell_type": "code",
      "metadata": {
        "id": "l7evN0LvH01P"
      },
      "source": [
        "simplified_batch_size = 1\n",
        "\n",
        "restored_model = build_model(vocab_size, embedding_dim, rnn_units, batch_size=1)\n",
        "\n",
        "restored_model.load_weights(tf.train.latest_checkpoint(checkpoint_dir))\n",
        "\n",
        "restored_model.build(tf.TensorShape([simplified_batch_size, None]))"
      ],
      "execution_count": null,
      "outputs": []
    },
    {
      "cell_type": "code",
      "metadata": {
        "id": "Y3eduDtZI9zQ"
      },
      "source": [
        "restored_model.summary()"
      ],
      "execution_count": null,
      "outputs": []
    },
    {
      "cell_type": "markdown",
      "metadata": {
        "id": "euNvAtr4JC3A"
      },
      "source": [
        "### The prediction loop\n",
        "\n",
        "The following code block generates the text:\n",
        "\n",
        "- It Starts by choosing a start string, initializing the RNN state and setting the number of characters to generate.\n",
        "\n",
        "- Get the prediction distribution of the next character using the start string and the RNN state.\n",
        "\n",
        "- Then, use a categorical distribution to calculate the index of the predicted character. Use this predicted character as our next input to the model.\n",
        "\n",
        "- The RNN state returned by the model is fed back into the model so that it now has more context, instead than only one character. After predicting the next character, the modified RNN states are again fed back into the model, which is how it learns as it gets more context from the previously predicted characters.\n",
        "\n",
        "![textgen.png](data:image/png;base64,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)"
      ]
    },
    {
      "cell_type": "code",
      "metadata": {
        "id": "bOqdqGouJFf_"
      },
      "source": [
        "# num_generate\n",
        "# - number of characters to generate.\n",
        "#\n",
        "# temperature\n",
        "# - Low temperatures results in more predictable text.\n",
        "# - Higher temperatures results in more surprising text.\n",
        "# - Experiment to find the best setting.\n",
        "def generate_text(model, start_string, num_generate = 1000, temperature=1.0):\n",
        "    # Evaluation step (generating text using the learned model)\n",
        "\n",
        "    # Converting our start string to numbers (vectorizing).\n",
        "    input_indices = [char2index[s] for s in start_string]\n",
        "    input_indices = tf.expand_dims(input_indices, 0)\n",
        "\n",
        "    # Empty string to store our results.\n",
        "    text_generated = []\n",
        "\n",
        "    # Here batch size == 1.\n",
        "    model.reset_states()\n",
        "    for char_index in range(num_generate):\n",
        "        predictions = model(input_indices)\n",
        "        # remove the batch dimension\n",
        "        predictions = tf.squeeze(predictions, 0)\n",
        "\n",
        "        # Using a categorical distribution to predict the character returned by the model.\n",
        "        predictions = predictions / temperature\n",
        "        predicted_id = tf.random.categorical(\n",
        "        predictions,\n",
        "        num_samples=1\n",
        "        )[-1,0].numpy()\n",
        "\n",
        "        # We pass the predicted character as the next input to the model\n",
        "        # along with the previous hidden state.\n",
        "        input_indices = tf.expand_dims([predicted_id], 0)\n",
        "\n",
        "        text_generated.append(index2char[predicted_id])\n",
        "\n",
        "    return (start_string + ''.join(text_generated))"
      ],
      "execution_count": null,
      "outputs": []
    },
    {
      "cell_type": "code",
      "metadata": {
        "id": "kR0PfGbSwA2_"
      },
      "source": [
        "num_generate = 100\n",
        "temperatures = [0.2, 0.4, 0.6, 0.8, 1.0, 1.2]\n",
        "start_string = 'quick'\n",
        "\n",
        "for temperature in temperatures:\n",
        "    print(\"Temperature: {}\".format(temperature))\n",
        "    print('---')\n",
        "    print(generate_text(restored_model, start_string, num_generate=num_generate, temperature=temperature))\n",
        "    print('\\n')"
      ],
      "execution_count": null,
      "outputs": []
    },
    {
      "cell_type": "markdown",
      "metadata": {
        "id": "0hh80MqEO_XI"
      },
      "source": [
        "## Save the model"
      ]
    },
    {
      "cell_type": "code",
      "metadata": {
        "id": "VPE98xa8PA-u"
      },
      "source": [
        "model_name = 'YetAnotherText-to-TextGenerationModelusingCharacterbasedRNN.h5'\n",
        "restored_model.save(model_name, save_format='h5')"
      ],
      "execution_count": null,
      "outputs": []
    },
    {
      "cell_type": "markdown",
      "metadata": {
        "id": "XXZ0KrKcQqiS"
      },
      "source": [
        "#Evaluation "
      ]
    },
    {
      "cell_type": "markdown",
      "metadata": {
        "id": "2oCS_NK9T8tq"
      },
      "source": [
        "***BLEU***"
      ]
    },
    {
      "cell_type": "code",
      "metadata": {
        "id": "Xs6zewA0QxGr"
      },
      "source": [
        "from nltk.translate.bleu_score import sentence_bleu\n",
        "reference = [['After' , 'the' , 'war' , 'Greenberg' , 'taught' , 'at' , 'the' , 'University' , 'of' , 'Minnesota'  ]]\n",
        "candidate = ['quick' , 'to' , 'the' ,'settement' , 'of' , 'the', 'Constitute', 'of' , 'the' , 'United' , 'States']\n",
        "score = sentence_bleu(reference, candidate)\n",
        "print(score)"
      ],
      "execution_count": null,
      "outputs": []
    },
    {
      "cell_type": "markdown",
      "metadata": {
        "id": "0jr00IbYcCBV"
      },
      "source": [
        "***BERTScore***"
      ]
    },
    {
      "cell_type": "code",
      "metadata": {
        "id": "zvCBVdjKlNlY"
      },
      "source": [
        "pip install bert-score"
      ],
      "execution_count": null,
      "outputs": []
    },
    {
      "cell_type": "code",
      "metadata": {
        "id": "D3YvzaHYb_Mt"
      },
      "source": [
        "from bert_score import score\n",
        "\n",
        "with open(\"cand.txt\") as f:\n",
        "    cands = [line.strip() for line in f]\n",
        "\n",
        "with open(\"refs.txt\") as f:\n",
        "    refs = [line.strip() for line in f]\n",
        "\n",
        "(P, R, F), hashname = score(cands, refs, lang=\"en\", return_hash=True)\n",
        "print(f\"{hashname}: P={P.mean().item():.6f} R={R.mean().item():.6f} F={F.mean().item():.6f}\")"
      ],
      "execution_count": null,
      "outputs": []
    }
  ]
}